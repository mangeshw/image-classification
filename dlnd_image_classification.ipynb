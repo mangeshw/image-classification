{
 "cells": [
  {
   "cell_type": "markdown",
   "metadata": {
    "collapsed": true
   },
   "source": [
    "# Image Classification\n",
    "In this project, you'll classify images from the [CIFAR-10 dataset](https://www.cs.toronto.edu/~kriz/cifar.html).  The dataset consists of airplanes, dogs, cats, and other objects. You'll preprocess the images, then train a convolutional neural network on all the samples. The images need to be normalized and the labels need to be one-hot encoded.  You'll get to apply what you learned and build a convolutional, max pooling, dropout, and fully connected layers.  At the end, you'll get to see your neural network's predictions on the sample images.\n",
    "## Get the Data\n",
    "Run the following cell to download the [CIFAR-10 dataset for python](https://www.cs.toronto.edu/~kriz/cifar-10-python.tar.gz)."
   ]
  },
  {
   "cell_type": "code",
   "execution_count": 3,
   "metadata": {},
   "outputs": [
    {
     "name": "stdout",
     "output_type": "stream",
     "text": [
      "All files found!\n"
     ]
    }
   ],
   "source": [
    "\"\"\"\n",
    "DON'T MODIFY ANYTHING IN THIS CELL THAT IS BELOW THIS LINE\n",
    "\"\"\"\n",
    "from urllib.request import urlretrieve\n",
    "from os.path import isfile, isdir\n",
    "from tqdm import tqdm\n",
    "import problem_unittests as tests\n",
    "import tarfile\n",
    "\n",
    "cifar10_dataset_folder_path = 'cifar-10-batches-py'\n",
    "\n",
    "# Use Floyd's cifar-10 dataset if present\n",
    "floyd_cifar10_location = '/cifar/cifar-10-python.tar.gz'\n",
    "if isfile(floyd_cifar10_location):\n",
    "    tar_gz_path = floyd_cifar10_location\n",
    "else:\n",
    "    tar_gz_path = 'cifar-10-python.tar.gz'\n",
    "\n",
    "class DLProgress(tqdm):\n",
    "    last_block = 0\n",
    "\n",
    "    def hook(self, block_num=1, block_size=1, total_size=None):\n",
    "        self.total = total_size\n",
    "        self.update((block_num - self.last_block) * block_size)\n",
    "        self.last_block = block_num\n",
    "\n",
    "if not isfile(tar_gz_path):\n",
    "    with DLProgress(unit='B', unit_scale=True, miniters=1, desc='CIFAR-10 Dataset') as pbar:\n",
    "        urlretrieve(\n",
    "            'https://www.cs.toronto.edu/~kriz/cifar-10-python.tar.gz',\n",
    "            tar_gz_path,\n",
    "            pbar.hook)\n",
    "\n",
    "if not isdir(cifar10_dataset_folder_path):\n",
    "    with tarfile.open(tar_gz_path) as tar:\n",
    "        tar.extractall()\n",
    "        tar.close()\n",
    "\n",
    "\n",
    "tests.test_folder_path(cifar10_dataset_folder_path)"
   ]
  },
  {
   "cell_type": "markdown",
   "metadata": {},
   "source": [
    "## Explore the Data\n",
    "The dataset is broken into batches to prevent your machine from running out of memory.  The CIFAR-10 dataset consists of 5 batches, named `data_batch_1`, `data_batch_2`, etc.. Each batch contains the labels and images that are one of the following:\n",
    "* airplane\n",
    "* automobile\n",
    "* bird\n",
    "* cat\n",
    "* deer\n",
    "* dog\n",
    "* frog\n",
    "* horse\n",
    "* ship\n",
    "* truck\n",
    "\n",
    "Understanding a dataset is part of making predictions on the data.  Play around with the code cell below by changing the `batch_id` and `sample_id`. The `batch_id` is the id for a batch (1-5). The `sample_id` is the id for a image and label pair in the batch.\n",
    "\n",
    "Ask yourself \"What are all possible labels?\", \"What is the range of values for the image data?\", \"Are the labels in order or random?\".  Answers to questions like these will help you preprocess the data and end up with better predictions."
   ]
  },
  {
   "cell_type": "code",
   "execution_count": 4,
   "metadata": {},
   "outputs": [
    {
     "name": "stdout",
     "output_type": "stream",
     "text": [
      "\n",
      "Stats of batch 1:\n",
      "Samples: 10000\n",
      "Label Counts: {0: 1005, 1: 974, 2: 1032, 3: 1016, 4: 999, 5: 937, 6: 1030, 7: 1001, 8: 1025, 9: 981}\n",
      "First 20 Labels: [6, 9, 9, 4, 1, 1, 2, 7, 8, 3, 4, 7, 7, 2, 9, 9, 9, 3, 2, 6]\n",
      "\n",
      "Example of Image 5:\n",
      "Image - Min Value: 0 Max Value: 252\n",
      "Image - Shape: (32, 32, 3)\n",
      "Label - Label Id: 1 Name: automobile\n"
     ]
    },
    {
     "data": {
      "image/png": "[encoded data removed]",
      "text/plain": [
       "<matplotlib.figure.Figure at 0x1eb3477ff60>"
      ]
     },
     "metadata": {
      "image/png": {
       "height": 250,
       "width": 253
      }
     },
     "output_type": "display_data"
    }
   ],
   "source": [
    "%matplotlib inline\n",
    "%config InlineBackend.figure_format = 'retina'\n",
    "\n",
    "import helper\n",
    "import numpy as np\n",
    "\n",
    "# Explore the dataset\n",
    "batch_id = 1\n",
    "sample_id = 5\n",
    "helper.display_stats(cifar10_dataset_folder_path, batch_id, sample_id)"
   ]
  },
  {
   "cell_type": "markdown",
   "metadata": {},
   "source": [
    "## Implement Preprocess Functions\n",
    "### Normalize\n",
    "In the cell below, implement the `normalize` function to take in image data, `x`, and return it as a normalized Numpy array. The values should be in the range of 0 to 1, inclusive.  The return object should be the same shape as `x`."
   ]
  },
  {
   "cell_type": "code",
   "execution_count": 5,
   "metadata": {},
   "outputs": [
    {
     "name": "stdout",
     "output_type": "stream",
     "text": [
      "Tests Passed\n"
     ]
    }
   ],
   "source": [
    "def normalize(x):\n",
    "    \"\"\"\n",
    "    Normalize a list of sample image data in the range of 0 to 1\n",
    "    : x: List of image data.  The image shape is (32, 32, 3)\n",
    "    : return: Numpy array of normalize data\n",
    "    \"\"\"\n",
    "    \n",
    "    return np.array(x/255)\n",
    "\n",
    "\n",
    "\"\"\"\n",
    "DON'T MODIFY ANYTHING IN THIS CELL THAT IS BELOW THIS LINE\n",
    "\"\"\"\n",
    "tests.test_normalize(normalize)"
   ]
  },
  {
   "cell_type": "markdown",
   "metadata": {},
   "source": [
    "### One-hot encode\n",
    "Just like the previous code cell, you'll be implementing a function for preprocessing.  This time, you'll implement the `one_hot_encode` function. The input, `x`, are a list of labels.  Implement the function to return the list of labels as One-Hot encoded Numpy array.  The possible values for labels are 0 to 9. The one-hot encoding function should return the same encoding for each value between each call to `one_hot_encode`.  Make sure to save the map of encodings outside the function.\n",
    "\n",
    "Hint: Don't reinvent the wheel."
   ]
  },
  {
   "cell_type": "code",
   "execution_count": 6,
   "metadata": {},
   "outputs": [
    {
     "name": "stdout",
     "output_type": "stream",
     "text": [
      "Tests Passed\n"
     ]
    }
   ],
   "source": [
    "from sklearn.preprocessing import OneHotEncoder \n",
    "oneHot = OneHotEncoder(n_values=10)\n",
    "    \n",
    "def one_hot_encode(x):\n",
    "    \"\"\"\n",
    "    One hot encode a list of sample labels. Return a one-hot encoded vector for each label.\n",
    "    : x: List of sample Labels\n",
    "    : return: Numpy array of one-hot encoded labels\n",
    "    \"\"\"\n",
    "    \"\"\"y = np.array(x).reshape(-1,1)\n",
    "    return oneHot.fit_transform(y).toarray()\"\"\"\n",
    "    y = np.eye(10)[x]\n",
    "    return y\n",
    "\n",
    "\n",
    "\"\"\"\n",
    "DON'T MODIFY ANYTHING IN THIS CELL THAT IS BELOW THIS LINE\n",
    "\"\"\"\n",
    "tests.test_one_hot_encode(one_hot_encode)"
   ]
  },
  {
   "cell_type": "markdown",
   "metadata": {},
   "source": [
    "### Randomize Data\n",
    "As you saw from exploring the data above, the order of the samples are randomized.  It doesn't hurt to randomize it again, but you don't need to for this dataset."
   ]
  },
  {
   "cell_type": "markdown",
   "metadata": {},
   "source": [
    "## Preprocess all the data and save it\n",
    "Running the code cell below will preprocess all the CIFAR-10 data and save it to file. The code below also uses 10% of the training data for validation."
   ]
  },
  {
   "cell_type": "code",
   "execution_count": 7,
   "metadata": {
    "collapsed": true
   },
   "outputs": [],
   "source": [
    "\"\"\"\n",
    "DON'T MODIFY ANYTHING IN THIS CELL\n",
    "\"\"\"\n",
    "# Preprocess Training, Validation, and Testing Data\n",
    "helper.preprocess_and_save_data(cifar10_dataset_folder_path, normalize, one_hot_encode)"
   ]
  },
  {
   "cell_type": "markdown",
   "metadata": {},
   "source": [
    "# Check Point\n",
    "This is your first checkpoint.  If you ever decide to come back to this notebook or have to restart the notebook, you can start from here.  The preprocessed data has been saved to disk."
   ]
  },
  {
   "cell_type": "code",
   "execution_count": 8,
   "metadata": {
    "collapsed": true
   },
   "outputs": [],
   "source": [
    "\"\"\"\n",
    "DON'T MODIFY ANYTHING IN THIS CELL\n",
    "\"\"\"\n",
    "import pickle\n",
    "import problem_unittests as tests\n",
    "import helper\n",
    "\n",
    "# Load the Preprocessed Validation data\n",
    "valid_features, valid_labels = pickle.load(open('preprocess_validation.p', mode='rb'))"
   ]
  },
  {
   "cell_type": "markdown",
   "metadata": {},
   "source": [
    "## Build the network\n",
    "For the neural network, you'll build each layer into a function.  Most of the code you've seen has been outside of functions. To test your code more thoroughly, we require that you put each layer in a function.  This allows us to give you better feedback and test for simple mistakes using our unittests before you submit your project.\n",
    "\n",
    ">**Note:** If you're finding it hard to dedicate enough time for this course each week, we've provided a small shortcut to this part of the project. In the next couple of problems, you'll have the option to use classes from the [TensorFlow Layers](https://www.tensorflow.org/api_docs/python/tf/layers) or [TensorFlow Layers (contrib)](https://www.tensorflow.org/api_guides/python/contrib.layers) packages to build each layer, except the layers you build in the \"Convolutional and Max Pooling Layer\" section.  TF Layers is similar to Keras's and TFLearn's abstraction to layers, so it's easy to pickup.\n",
    "\n",
    ">However, if you would like to get the most out of this course, try to solve all the problems _without_ using anything from the TF Layers packages. You **can** still use classes from other packages that happen to have the same name as ones you find in TF Layers! For example, instead of using the TF Layers version of the `conv2d` class, [tf.layers.conv2d](https://www.tensorflow.org/api_docs/python/tf/layers/conv2d), you would want to use the TF Neural Network version of `conv2d`, [tf.nn.conv2d](https://www.tensorflow.org/api_docs/python/tf/nn/conv2d). \n",
    "\n",
    "Let's begin!\n",
    "\n",
    "### Input\n",
    "The neural network needs to read the image data, one-hot encoded labels, and dropout keep probability. Implement the following functions\n",
    "* Implement `neural_net_image_input`\n",
    " * Return a [TF Placeholder](https://www.tensorflow.org/api_docs/python/tf/placeholder)\n",
    " * Set the shape using `image_shape` with batch size set to `None`.\n",
    " * Name the TensorFlow placeholder \"x\" using the TensorFlow `name` parameter in the [TF Placeholder](https://www.tensorflow.org/api_docs/python/tf/placeholder).\n",
    "* Implement `neural_net_label_input`\n",
    " * Return a [TF Placeholder](https://www.tensorflow.org/api_docs/python/tf/placeholder)\n",
    " * Set the shape using `n_classes` with batch size set to `None`.\n",
    " * Name the TensorFlow placeholder \"y\" using the TensorFlow `name` parameter in the [TF Placeholder](https://www.tensorflow.org/api_docs/python/tf/placeholder).\n",
    "* Implement `neural_net_keep_prob_input`\n",
    " * Return a [TF Placeholder](https://www.tensorflow.org/api_docs/python/tf/placeholder) for dropout keep probability.\n",
    " * Name the TensorFlow placeholder \"keep_prob\" using the TensorFlow `name` parameter in the [TF Placeholder](https://www.tensorflow.org/api_docs/python/tf/placeholder).\n",
    "\n",
    "These names will be used at the end of the project to load your saved model.\n",
    "\n",
    "Note: `None` for shapes in TensorFlow allow for a dynamic size."
   ]
  },
  {
   "cell_type": "code",
   "execution_count": 9,
   "metadata": {},
   "outputs": [
    {
     "name": "stdout",
     "output_type": "stream",
     "text": [
      "Image Input Tests Passed.\n",
      "Label Input Tests Passed.\n",
      "Keep Prob Tests Passed.\n"
     ]
    }
   ],
   "source": [
    "import tensorflow as tf\n",
    "\n",
    "def neural_net_image_input(image_shape):\n",
    "    \"\"\"\n",
    "    Return a Tensor for a batch of image input\n",
    "    : image_shape: Shape of the images\n",
    "    : return: Tensor for image input.\n",
    "    \"\"\"\n",
    "    # TODO: Implement Function\n",
    "    x = tf.placeholder(tf.float32, shape=[None, *image_shape], name='x')\n",
    "    return x\n",
    "\n",
    "\n",
    "def neural_net_label_input(n_classes):\n",
    "    \"\"\"\n",
    "    Return a Tensor for a batch of label input\n",
    "    : n_classes: Number of classes\n",
    "    : return: Tensor for label input.\n",
    "    \"\"\"\n",
    "    # TODO: Implement Function\n",
    "    y = tf.placeholder(tf.float32, shape = [None, n_classes], name='y')\n",
    "    return y\n",
    "\n",
    "\n",
    "def neural_net_keep_prob_input():\n",
    "    \"\"\"\n",
    "    Return a Tensor for keep probability\n",
    "    : return: Tensor for keep probability.\n",
    "    \"\"\"\n",
    "    # TODO: Implement Function\n",
    "    keep_prob = tf.placeholder(tf.float32, name='keep_prob')\n",
    "    return keep_prob\n",
    "\n",
    "\n",
    "\"\"\"\n",
    "DON'T MODIFY ANYTHING IN THIS CELL THAT IS BELOW THIS LINE\n",
    "\"\"\"\n",
    "tf.reset_default_graph()\n",
    "tests.test_nn_image_inputs(neural_net_image_input)\n",
    "tests.test_nn_label_inputs(neural_net_label_input)\n",
    "tests.test_nn_keep_prob_inputs(neural_net_keep_prob_input)"
   ]
  },
  {
   "cell_type": "markdown",
   "metadata": {},
   "source": [
    "### Convolution and Max Pooling Layer\n",
    "Convolution layers have a lot of success with images. For this code cell, you should implement the function `conv2d_maxpool` to apply convolution then max pooling:\n",
    "* Create the weight and bias using `conv_ksize`, `conv_num_outputs` and the shape of `x_tensor`.\n",
    "* Apply a convolution to `x_tensor` using weight and `conv_strides`.\n",
    " * We recommend you use same padding, but you're welcome to use any padding.\n",
    "* Add bias\n",
    "* Add a nonlinear activation to the convolution.\n",
    "* Apply Max Pooling using `pool_ksize` and `pool_strides`.\n",
    " * We recommend you use same padding, but you're welcome to use any padding.\n",
    "\n",
    "**Note:** You **can't** use [TensorFlow Layers](https://www.tensorflow.org/api_docs/python/tf/layers) or [TensorFlow Layers (contrib)](https://www.tensorflow.org/api_guides/python/contrib.layers) for **this** layer, but you can still use TensorFlow's [Neural Network](https://www.tensorflow.org/api_docs/python/tf/nn) package. You may still use the shortcut option for all the **other** layers."
   ]
  },
  {
   "cell_type": "code",
   "execution_count": 10,
   "metadata": {},
   "outputs": [
    {
     "name": "stdout",
     "output_type": "stream",
     "text": [
      "Tests Passed\n"
     ]
    }
   ],
   "source": [
    "def conv2d_maxpool(x_tensor, conv_num_outputs, conv_ksize, conv_strides, pool_ksize, pool_strides):\n",
    "    \"\"\"\n",
    "    Apply convolution then max pooling to x_tensor\n",
    "    :param x_tensor: TensorFlow Tensor\n",
    "    :param conv_num_outputs: Number of outputs for the convolutional layer\n",
    "    :param conv_ksize: kernal size 2-D Tuple for the convolutional layer\n",
    "    :param conv_strides: Stride 2-D Tuple for convolution\n",
    "    :param pool_ksize: kernal size 2-D Tuple for pool\n",
    "    :param pool_strides: Stride 2-D Tuple for pool\n",
    "    : return: A tensor that represents convolution and max pooling of x_tensor\n",
    "    \"\"\"\n",
    "    # TODO: Implement Function\n",
    "    weight = tf.Variable(tf.truncated_normal([conv_ksize[0], conv_ksize[1], x_tensor.get_shape().as_list()[3], conv_num_outputs], stddev=0.1))\n",
    "    \"\"\"weight = tf.Variable(tf.random_normal([conv_ksize[0], conv_ksize[1], \n",
    "                                           x_tensor.get_shape().as_list()[3], conv_num_outputs], stddev=0.1))\"\"\"\n",
    "    bias = tf.Variable(tf.zeros(conv_num_outputs))\n",
    "    \"\"\"bias = tf.Variable(tf.random_normal([conv_num_outputs], stddev=0.1))\"\"\"\n",
    "    \n",
    "    \"\"\"conv = tf.nn.conv2d(x_tensor, weights, conv_strides, 'SAME') + bias\"\"\"\n",
    "    \"\"\"max_pool = tf.nn.max_pool(conv, pool_ksize, pool_strides, 'SAME')\"\"\"\n",
    "    \n",
    "    x_tensor = tf.nn.conv2d(x_tensor, weight, [1, conv_strides[0], conv_strides[1], 1], padding='SAME')\n",
    "    x_tensor = tf.nn.bias_add(x_tensor, bias)\n",
    "    x_tensor = tf.nn.relu(x_tensor)\n",
    "    x_tensor = tf.nn.max_pool(x_tensor, [1, pool_ksize[0], pool_ksize[1], 1], [1, pool_strides[0], pool_strides[1], 1], padding='SAME')\n",
    "    return x_tensor \n",
    "\"\"\"\n",
    "DON'T MODIFY ANYTHING IN THIS CELL THAT IS BELOW THIS LINE\n",
    "\"\"\"\n",
    "tests.test_con_pool(conv2d_maxpool)"
   ]
  },
  {
   "cell_type": "markdown",
   "metadata": {},
   "source": [
    "### Flatten Layer\n",
    "Implement the `flatten` function to change the dimension of `x_tensor` from a 4-D tensor to a 2-D tensor.  The output should be the shape (*Batch Size*, *Flattened Image Size*). Shortcut option: you can use classes from the [TensorFlow Layers](https://www.tensorflow.org/api_docs/python/tf/layers) or [TensorFlow Layers (contrib)](https://www.tensorflow.org/api_guides/python/contrib.layers) packages for this layer. For more of a challenge, only use other TensorFlow packages."
   ]
  },
  {
   "cell_type": "code",
   "execution_count": 11,
   "metadata": {},
   "outputs": [
    {
     "name": "stdout",
     "output_type": "stream",
     "text": [
      "Tests Passed\n"
     ]
    }
   ],
   "source": [
    "def flatten(x_tensor):\n",
    "    \"\"\"\n",
    "    Flatten x_tensor to (Batch Size, Flattened Image Size)\n",
    "    : x_tensor: A tensor of size (Batch Size, ...), where ... are the image dimensions.\n",
    "    : return: A tensor of size (Batch Size, Flattened Image Size).\n",
    "    \"\"\"\n",
    "    # TODO: Implement Function\n",
    "    \"\"\"print(x_tensor.shape[1])\"\"\"\n",
    "    \"\"\"print(x_tensor.get_shape().as_list()[0])\"\"\"\n",
    "    \"\"\"h = (x_tensor.get_shape().as_list()[1])\n",
    "    w = (x_tensor.get_shape().as_list()[2])\n",
    "    d = (x_tensor.get_shape().as_list()[3])\n",
    "    shape1 = tf.reshape(x_tensor, [-1, h*w*d])\"\"\"\n",
    "    return tf.contrib.layers.flatten(x_tensor)\n",
    "\n",
    "\n",
    "\"\"\"\n",
    "DON'T MODIFY ANYTHING IN THIS CELL THAT IS BELOW THIS LINE\n",
    "\"\"\"\n",
    "tests.test_flatten(flatten)"
   ]
  },
  {
   "cell_type": "markdown",
   "metadata": {},
   "source": [
    "### Fully-Connected Layer\n",
    "Implement the `fully_conn` function to apply a fully connected layer to `x_tensor` with the shape (*Batch Size*, *num_outputs*). Shortcut option: you can use classes from the [TensorFlow Layers](https://www.tensorflow.org/api_docs/python/tf/layers) or [TensorFlow Layers (contrib)](https://www.tensorflow.org/api_guides/python/contrib.layers) packages for this layer. For more of a challenge, only use other TensorFlow packages."
   ]
  },
  {
   "cell_type": "code",
   "execution_count": 13,
   "metadata": {},
   "outputs": [
    {
     "name": "stdout",
     "output_type": "stream",
     "text": [
      "Tests Passed\n"
     ]
    }
   ],
   "source": [
    "def fully_conn(x_tensor, num_outputs):\n",
    "    \"\"\"\n",
    "    Apply a fully connected layer to x_tensor using weight and bias\n",
    "    : x_tensor: A 2-D tensor where the first dimension is batch size.\n",
    "    : num_outputs: The number of output that the new tensor should be.\n",
    "    : return: A 2-D tensor where the second dimension is num_outputs.\n",
    "    \"\"\"\n",
    "    # TODO: Implement Function\n",
    "    \n",
    "    \"\"\"weights = tf.Variable(tf.truncated_normal([x_tensor.get_shape().as_list()[1], num_outputs]))\n",
    "    bias = tf.Variable(tf.truncated_normal([num_outputs]))\n",
    "    output = tf.add(tf.matmul(x_tensor, weights), bias)\n",
    "    output = tf.nn.softmax(output)\n",
    "    print(\"Output: \" + str(output.shape))\"\"\"\n",
    "    output = tf.contrib.layers.fully_connected(x_tensor, num_outputs, activation_fn=tf.nn.sigmoid)\n",
    "    return output\n",
    "\n",
    "\n",
    "\"\"\"\n",
    "DON'T MODIFY ANYTHING IN THIS CELL THAT IS BELOW THIS LINE\n",
    "\"\"\"\n",
    "tests.test_fully_conn(fully_conn)"
   ]
  },
  {
   "cell_type": "markdown",
   "metadata": {},
   "source": [
    "### Output Layer\n",
    "Implement the `output` function to apply a fully connected layer to `x_tensor` with the shape (*Batch Size*, *num_outputs*). Shortcut option: you can use classes from the [TensorFlow Layers](https://www.tensorflow.org/api_docs/python/tf/layers) or [TensorFlow Layers (contrib)](https://www.tensorflow.org/api_guides/python/contrib.layers) packages for this layer. For more of a challenge, only use other TensorFlow packages.\n",
    "\n",
    "**Note:** Activation, softmax, or cross entropy should **not** be applied to this."
   ]
  },
  {
   "cell_type": "code",
   "execution_count": 14,
   "metadata": {},
   "outputs": [
    {
     "name": "stdout",
     "output_type": "stream",
     "text": [
      "Tests Passed\n"
     ]
    }
   ],
   "source": [
    "def output(x_tensor, num_outputs):\n",
    "    \"\"\"\n",
    "    Apply a output layer to x_tensor using weight and bias\n",
    "    : x_tensor: A 2-D tensor where the first dimension is batch size.\n",
    "    : num_outputs: The number of output that the new tensor should be.\n",
    "    : return: A 2-D tensor where the second dimension is num_outputs.\n",
    "    \"\"\"\n",
    "    # TODO: Implement Function\n",
    "    \"\"\"weights = tf.Variable(tf.truncated_normal([x_tensor.get_shape().as_list()[1], num_outputs]))\n",
    "    bias = tf.Variable(tf.truncated_normal([num_outputs]))\n",
    "    output = tf.add(tf.matmul(x_tensor, weights), bias)\n",
    "    print(\"Output: \" + str(output.shape))\n",
    "    output = tf.nn.softmax(output)\"\"\"\n",
    "    \"\"\"output = tf.contrib.layers.fully_connected(x_tensor, num_outputs, tf.nn.relu)\"\"\"\n",
    "    output = tf.contrib.layers.fully_connected(x_tensor, num_outputs, activation_fn= None)\n",
    "    return output\n",
    "\n",
    "\n",
    "\"\"\"\n",
    "DON'T MODIFY ANYTHING IN THIS CELL THAT IS BELOW THIS LINE\n",
    "\"\"\"\n",
    "tests.test_output(output)"
   ]
  },
  {
   "cell_type": "markdown",
   "metadata": {},
   "source": [
    "### Create Convolutional Model\n",
    "Implement the function `conv_net` to create a convolutional neural network model. The function takes in a batch of images, `x`, and outputs logits.  Use the layers you created above to create this model:\n",
    "\n",
    "* Apply 1, 2, or 3 Convolution and Max Pool layers\n",
    "* Apply a Flatten Layer\n",
    "* Apply 1, 2, or 3 Fully Connected Layers\n",
    "* Apply an Output Layer\n",
    "* Return the output\n",
    "* Apply [TensorFlow's Dropout](https://www.tensorflow.org/api_docs/python/tf/nn/dropout) to one or more layers in the model using `keep_prob`. "
   ]
  },
  {
   "cell_type": "code",
   "execution_count": 15,
   "metadata": {},
   "outputs": [
    {
     "name": "stdout",
     "output_type": "stream",
     "text": [
      "Before Logits\n",
      "Convolution 2d done\n",
      "Fully Connected Done\n",
      "Output Done\n",
      "Convolution 2d done\n",
      "Fully Connected Done\n",
      "Output Done\n",
      "Neural Network Built!\n"
     ]
    }
   ],
   "source": [
    "def conv_net(x, keep_prob):\n",
    "    \"\"\"\n",
    "    Create a convolutional neural network model\n",
    "    : x: Placeholder tensor that holds image data.\n",
    "    : keep_prob: Placeholder tensor that hold dropout keep probability.\n",
    "    : return: Tensor that represents logits\n",
    "    \"\"\"\n",
    "    # TODO: Apply 1, 2, or 3 Convolution and Max Pool layers\n",
    "    #    Play around with different number of outputs, kernel size and stride\n",
    "    # Function Definition from Above:\n",
    "    #    conv2d_maxpool(x_tensor, conv_num_outputs, conv_ksize, conv_strides, pool_ksize, pool_strides)\n",
    "    \"\"\"test_x = tf.placeholder(tf.float32, [None, 32, 32, 5])\n",
    "    test_num_outputs = 10\n",
    "    test_con_k = (2, 2)\n",
    "    test_con_s = (4, 4)\n",
    "    test_pool_k = (2, 2)\n",
    "    test_pool_s = (2, 2)\n",
    "    \n",
    "    conv2d_maxpool_out = conv2d_maxpool(test_x, test_num_outputs, test_con_k, test_con_s, test_pool_k, test_pool_s)\"\"\"\n",
    "    print('Convolution 2d done')\n",
    "    \n",
    "    num_conv_layers = 3\n",
    "    conv_num_outputs = [16, 32, 64]\n",
    "    conv_ksizes = [[3, 3], [3, 3], [3, 3]]\n",
    "    conv_strides = [[1, 1], [1, 1], [1, 1]]\n",
    "    pool_ksizes = [[2, 2], [2, 2], [2, 2]]\n",
    "    pool_strides = [[2, 2], [2, 2], [2, 2]]\n",
    "    \n",
    "    conv_layer = x\n",
    "    for i in range(num_conv_layers):\n",
    "        conv_layer = conv2d_maxpool(\n",
    "            conv_layer,\n",
    "            conv_num_outputs[i],\n",
    "            conv_ksizes[i],\n",
    "            conv_strides[i],\n",
    "            pool_ksizes[i],\n",
    "            pool_strides[i]\n",
    "        )\n",
    "\n",
    "    \n",
    "    # TODO: Apply a Flatten Layer\n",
    "    # Function Definition from Above:\n",
    "    #   flatten(x_tensor)\n",
    "    \"\"\"flat_out = flatten(conv_layer)\"\"\"\n",
    "    flatten_layer = flatten(conv_layer)\n",
    "    \n",
    "    num_fully_conn_layers = 1\n",
    "    fully_num_outputs = 10\n",
    "    \n",
    "    fully_conn_layer = flatten_layer\n",
    "    for i in range(num_fully_conn_layers):\n",
    "        fully_conn_layer = fully_conn(fully_conn_layer, fully_num_outputs)\n",
    "        fully_conn_layer = tf.nn.dropout(fully_conn_layer, keep_prob)\n",
    "    \n",
    "    # TODO: Apply 1, 2, or 3 Fully Connected Layers\n",
    "    #    Play around with different number of outputs\n",
    "    # Function Definition from Above:\n",
    "    #   fully_conn(x_tensor, num_outputs)\n",
    "    \n",
    "    \"\"\"fc_out = fully_conn(flat_out, test_num_outputs)\"\"\"\n",
    "    print('Fully Connected Done')\n",
    "    \n",
    "    # TODO: Apply an Output Layer\n",
    "    #    Set this to the number of classes\n",
    "    # Function Definition from Above:\n",
    "    #   output(x_tensor, num_outputs)\n",
    "    \"\"\"out = output(fc_out, test_num_outputs)\"\"\"\n",
    "    num_classes = 10\n",
    "    output_layer = output(fully_conn_layer, num_classes)\n",
    "    \n",
    "    print('Output Done')\n",
    "    # TODO: return output\n",
    "    return output_layer\n",
    "\n",
    "\n",
    "\"\"\"\n",
    "DON'T MODIFY ANYTHING IN THIS CELL THAT IS BELOW THIS LINE\n",
    "\"\"\"\n",
    "\n",
    "##############################\n",
    "## Build the Neural Network ##\n",
    "##############################\n",
    "\n",
    "# Remove previous weights, bias, inputs, etc..\n",
    "tf.reset_default_graph()\n",
    "\n",
    "# Inputs\n",
    "x = neural_net_image_input((32, 32, 3))\n",
    "y = neural_net_label_input(10)\n",
    "keep_prob = neural_net_keep_prob_input()\n",
    "print('Before Logits')\n",
    "# Model\n",
    "logits = conv_net(x, keep_prob)\n",
    "\n",
    "# Name logits Tensor, so that is can be loaded from disk after training\n",
    "logits = tf.identity(logits, name='logits')\n",
    "\n",
    "# Loss and Optimizer\n",
    "cost = tf.reduce_mean(tf.nn.softmax_cross_entropy_with_logits(logits=logits, labels=y))\n",
    "optimizer = tf.train.AdamOptimizer().minimize(cost)\n",
    "\n",
    "# Accuracy\n",
    "correct_pred = tf.equal(tf.argmax(logits, 1), tf.argmax(y, 1))\n",
    "accuracy = tf.reduce_mean(tf.cast(correct_pred, tf.float32), name='accuracy')\n",
    "\n",
    "tests.test_conv_net(conv_net)"
   ]
  },
  {
   "cell_type": "markdown",
   "metadata": {},
   "source": [
    "## Train the Neural Network\n",
    "### Single Optimization\n",
    "Implement the function `train_neural_network` to do a single optimization.  The optimization should use `optimizer` to optimize in `session` with a `feed_dict` of the following:\n",
    "* `x` for image input\n",
    "* `y` for labels\n",
    "* `keep_prob` for keep probability for dropout\n",
    "\n",
    "This function will be called for each batch, so `tf.global_variables_initializer()` has already been called.\n",
    "\n",
    "Note: Nothing needs to be returned. This function is only optimizing the neural network."
   ]
  },
  {
   "cell_type": "code",
   "execution_count": 16,
   "metadata": {},
   "outputs": [
    {
     "name": "stdout",
     "output_type": "stream",
     "text": [
      "Tests Passed\n"
     ]
    }
   ],
   "source": [
    "def train_neural_network(session, optimizer, keep_probability, feature_batch, label_batch):\n",
    "    \"\"\"\n",
    "    Optimize the session on a batch of images and labels\n",
    "    : session: Current TensorFlow session\n",
    "    : optimizer: TensorFlow optimizer function\n",
    "    : keep_probability: keep probability\n",
    "    : feature_batch: Batch of Numpy image data\n",
    "    : label_batch: Batch of Numpy label data\n",
    "    \"\"\"\n",
    "    \n",
    "    session.run(optimizer, feed_dict={x: feature_batch, y: label_batch, keep_prob: keep_probability})\n",
    "    \n",
    "\n",
    "\n",
    "\"\"\"\n",
    "DON'T MODIFY ANYTHING IN THIS CELL THAT IS BELOW THIS LINE\n",
    "\"\"\"\n",
    "tests.test_train_nn(train_neural_network)"
   ]
  },
  {
   "cell_type": "markdown",
   "metadata": {},
   "source": [
    "### Show Stats\n",
    "Implement the function `print_stats` to print loss and validation accuracy.  Use the global variables `valid_features` and `valid_labels` to calculate validation accuracy.  Use a keep probability of `1.0` to calculate the loss and validation accuracy."
   ]
  },
  {
   "cell_type": "code",
   "execution_count": 17,
   "metadata": {
    "collapsed": true
   },
   "outputs": [],
   "source": [
    "def print_stats(session, feature_batch, label_batch, cost, accuracy):\n",
    "    \"\"\"\n",
    "    Print information about loss and validation accuracy\n",
    "    : session: Current TensorFlow session\n",
    "    : feature_batch: Batch of Numpy image data\n",
    "    : label_batch: Batch of Numpy label data\n",
    "    : cost: TensorFlow cost function\n",
    "    : accuracy: TensorFlow accuracy function\n",
    "    \"\"\"\n",
    "    cost = session.run(cost, feed_dict={x:feature_batch, y:label_batch, keep_prob: 1})\n",
    "    accuracy = session.run(accuracy, feed_dict={x:valid_features, y:valid_labels, keep_prob: 1})\n",
    "    print('Cost: {:>10.4f}, Accuracy: {:.6f}'.format(cost, accuracy))\n",
    "    # TODO: Implement Function\n"
   ]
  },
  {
   "cell_type": "markdown",
   "metadata": {},
   "source": [
    "### Hyperparameters\n",
    "Tune the following parameters:\n",
    "* Set `epochs` to the number of iterations until the network stops learning or start overfitting\n",
    "* Set `batch_size` to the highest number that your machine has memory for.  Most people set them to common sizes of memory:\n",
    " * 64\n",
    " * 128\n",
    " * 256\n",
    " * ...\n",
    "* Set `keep_probability` to the probability of keeping a node using dropout"
   ]
  },
  {
   "cell_type": "code",
   "execution_count": 23,
   "metadata": {
    "collapsed": true
   },
   "outputs": [],
   "source": [
    "# TODO: Tune Parameters\n",
    "epochs = 30\n",
    "batch_size = 128\n",
    "keep_probability = 0.7"
   ]
  },
  {
   "cell_type": "markdown",
   "metadata": {},
   "source": [
    "### Train on a Single CIFAR-10 Batch\n",
    "Instead of training the neural network on all the CIFAR-10 batches of data, let's use a single batch. This should save time while you iterate on the model to get a better accuracy.  Once the final validation accuracy is 50% or greater, run the model on all the data in the next section."
   ]
  },
  {
   "cell_type": "code",
   "execution_count": 24,
   "metadata": {},
   "outputs": [
    {
     "name": "stdout",
     "output_type": "stream",
     "text": [
      "Checking the Training on a Single Batch...\n",
      "Epoch  1, CIFAR-10 Batch 1:  Cost:     2.2962, Accuracy: 0.153000\n",
      "Epoch  2, CIFAR-10 Batch 1:  Cost:     2.2409, Accuracy: 0.184800\n",
      "Epoch  3, CIFAR-10 Batch 1:  Cost:     2.1692, Accuracy: 0.263000\n",
      "Epoch  4, CIFAR-10 Batch 1:  Cost:     2.1101, Accuracy: 0.279200\n",
      "Epoch  5, CIFAR-10 Batch 1:  Cost:     2.0500, Accuracy: 0.327200\n",
      "Epoch  6, CIFAR-10 Batch 1:  Cost:     2.0333, Accuracy: 0.350800\n",
      "Epoch  7, CIFAR-10 Batch 1:  Cost:     1.9477, Accuracy: 0.366600\n",
      "Epoch  8, CIFAR-10 Batch 1:  Cost:     1.9099, Accuracy: 0.376800\n",
      "Epoch  9, CIFAR-10 Batch 1:  Cost:     1.8604, Accuracy: 0.393200\n",
      "Epoch 10, CIFAR-10 Batch 1:  Cost:     1.8153, Accuracy: 0.397400\n",
      "Epoch 11, CIFAR-10 Batch 1:  Cost:     1.7945, Accuracy: 0.398000\n",
      "Epoch 12, CIFAR-10 Batch 1:  Cost:     1.7554, Accuracy: 0.398000\n",
      "Epoch 13, CIFAR-10 Batch 1:  Cost:     1.7481, Accuracy: 0.407600\n",
      "Epoch 14, CIFAR-10 Batch 1:  Cost:     1.6882, Accuracy: 0.416800\n",
      "Epoch 15, CIFAR-10 Batch 1:  Cost:     1.6496, Accuracy: 0.432000\n",
      "Epoch 16, CIFAR-10 Batch 1:  Cost:     1.6226, Accuracy: 0.426000\n",
      "Epoch 17, CIFAR-10 Batch 1:  Cost:     1.5657, Accuracy: 0.448000\n",
      "Epoch 18, CIFAR-10 Batch 1:  Cost:     1.5491, Accuracy: 0.431200\n",
      "Epoch 19, CIFAR-10 Batch 1:  Cost:     1.5269, Accuracy: 0.458200\n",
      "Epoch 20, CIFAR-10 Batch 1:  Cost:     1.4699, Accuracy: 0.457000\n",
      "Epoch 21, CIFAR-10 Batch 1:  Cost:     1.4767, Accuracy: 0.453200\n",
      "Epoch 22, CIFAR-10 Batch 1:  Cost:     1.4026, Accuracy: 0.470800\n",
      "Epoch 23, CIFAR-10 Batch 1:  Cost:     1.4145, Accuracy: 0.463800\n",
      "Epoch 24, CIFAR-10 Batch 1:  Cost:     1.3886, Accuracy: 0.464000\n",
      "Epoch 25, CIFAR-10 Batch 1:  Cost:     1.3841, Accuracy: 0.476000\n",
      "Epoch 26, CIFAR-10 Batch 1:  Cost:     1.3475, Accuracy: 0.470600\n",
      "Epoch 27, CIFAR-10 Batch 1:  Cost:     1.3170, Accuracy: 0.484600\n",
      "Epoch 28, CIFAR-10 Batch 1:  Cost:     1.3166, Accuracy: 0.483000\n",
      "Epoch 29, CIFAR-10 Batch 1:  Cost:     1.3266, Accuracy: 0.479800\n",
      "Epoch 30, CIFAR-10 Batch 1:  Cost:     1.2544, Accuracy: 0.471800\n"
     ]
    }
   ],
   "source": [
    "\"\"\"\n",
    "DON'T MODIFY ANYTHING IN THIS CELL\n",
    "\"\"\"\n",
    "print('Checking the Training on a Single Batch...')\n",
    "with tf.Session() as sess:\n",
    "    # Initializing the variables\n",
    "    sess.run(tf.global_variables_initializer())\n",
    "    \n",
    "    # Training cycle\n",
    "    for epoch in range(epochs):\n",
    "        batch_i = 1\n",
    "        for batch_features, batch_labels in helper.load_preprocess_training_batch(batch_i, batch_size):\n",
    "            train_neural_network(sess, optimizer, keep_probability, batch_features, batch_labels)\n",
    "        print('Epoch {:>2}, CIFAR-10 Batch {}:  '.format(epoch + 1, batch_i), end='')\n",
    "        print_stats(sess, batch_features, batch_labels, cost, accuracy)"
   ]
  },
  {
   "cell_type": "markdown",
   "metadata": {},
   "source": [
    "### Fully Train the Model\n",
    "Now that you got a good accuracy with a single CIFAR-10 batch, try it with all five batches."
   ]
  },
  {
   "cell_type": "code",
   "execution_count": 25,
   "metadata": {},
   "outputs": [
    {
     "name": "stdout",
     "output_type": "stream",
     "text": [
      "Training...\n",
      "Epoch  1, CIFAR-10 Batch 1:  Cost:     2.2593, Accuracy: 0.167400\n",
      "Epoch  1, CIFAR-10 Batch 2:  Cost:     2.1709, Accuracy: 0.180200\n",
      "Epoch  1, CIFAR-10 Batch 3:  Cost:     2.0731, Accuracy: 0.191200\n",
      "Epoch  1, CIFAR-10 Batch 4:  Cost:     1.9885, Accuracy: 0.268600\n",
      "Epoch  1, CIFAR-10 Batch 5:  Cost:     1.9660, Accuracy: 0.315200\n",
      "Epoch  2, CIFAR-10 Batch 1:  Cost:     2.0523, Accuracy: 0.332600\n",
      "Epoch  2, CIFAR-10 Batch 2:  Cost:     1.9590, Accuracy: 0.363600\n",
      "Epoch  2, CIFAR-10 Batch 3:  Cost:     1.6981, Accuracy: 0.371600\n",
      "Epoch  2, CIFAR-10 Batch 4:  Cost:     1.7636, Accuracy: 0.400000\n",
      "Epoch  2, CIFAR-10 Batch 5:  Cost:     1.6990, Accuracy: 0.412000\n",
      "Epoch  3, CIFAR-10 Batch 1:  Cost:     1.8634, Accuracy: 0.429000\n",
      "Epoch  3, CIFAR-10 Batch 2:  Cost:     1.8068, Accuracy: 0.444000\n",
      "Epoch  3, CIFAR-10 Batch 3:  Cost:     1.4740, Accuracy: 0.444200\n",
      "Epoch  3, CIFAR-10 Batch 4:  Cost:     1.5645, Accuracy: 0.456600\n",
      "Epoch  3, CIFAR-10 Batch 5:  Cost:     1.6636, Accuracy: 0.453000\n",
      "Epoch  4, CIFAR-10 Batch 1:  Cost:     1.6816, Accuracy: 0.487600\n",
      "Epoch  4, CIFAR-10 Batch 2:  Cost:     1.6862, Accuracy: 0.492400\n",
      "Epoch  4, CIFAR-10 Batch 3:  Cost:     1.3431, Accuracy: 0.493600\n",
      "Epoch  4, CIFAR-10 Batch 4:  Cost:     1.4860, Accuracy: 0.503800\n",
      "Epoch  4, CIFAR-10 Batch 5:  Cost:     1.5055, Accuracy: 0.510200\n",
      "Epoch  5, CIFAR-10 Batch 1:  Cost:     1.5925, Accuracy: 0.514200\n",
      "Epoch  5, CIFAR-10 Batch 2:  Cost:     1.5710, Accuracy: 0.523000\n",
      "Epoch  5, CIFAR-10 Batch 3:  Cost:     1.2688, Accuracy: 0.528800\n",
      "Epoch  5, CIFAR-10 Batch 4:  Cost:     1.4229, Accuracy: 0.529200\n",
      "Epoch  5, CIFAR-10 Batch 5:  Cost:     1.4367, Accuracy: 0.528400\n",
      "Epoch  6, CIFAR-10 Batch 1:  Cost:     1.5129, Accuracy: 0.535600\n",
      "Epoch  6, CIFAR-10 Batch 2:  Cost:     1.4687, Accuracy: 0.544400\n",
      "Epoch  6, CIFAR-10 Batch 3:  Cost:     1.2149, Accuracy: 0.546400\n",
      "Epoch  6, CIFAR-10 Batch 4:  Cost:     1.3230, Accuracy: 0.549000\n",
      "Epoch  6, CIFAR-10 Batch 5:  Cost:     1.3837, Accuracy: 0.548200\n",
      "Epoch  7, CIFAR-10 Batch 1:  Cost:     1.4121, Accuracy: 0.559200\n",
      "Epoch  7, CIFAR-10 Batch 2:  Cost:     1.3379, Accuracy: 0.563400\n",
      "Epoch  7, CIFAR-10 Batch 3:  Cost:     1.1517, Accuracy: 0.568600\n",
      "Epoch  7, CIFAR-10 Batch 4:  Cost:     1.2588, Accuracy: 0.561000\n",
      "Epoch  7, CIFAR-10 Batch 5:  Cost:     1.2730, Accuracy: 0.559200\n",
      "Epoch  8, CIFAR-10 Batch 1:  Cost:     1.2673, Accuracy: 0.574200\n",
      "Epoch  8, CIFAR-10 Batch 2:  Cost:     1.2635, Accuracy: 0.569000\n",
      "Epoch  8, CIFAR-10 Batch 3:  Cost:     1.0742, Accuracy: 0.576600\n",
      "Epoch  8, CIFAR-10 Batch 4:  Cost:     1.1850, Accuracy: 0.586400\n",
      "Epoch  8, CIFAR-10 Batch 5:  Cost:     1.2015, Accuracy: 0.578000\n",
      "Epoch  9, CIFAR-10 Batch 1:  Cost:     1.1854, Accuracy: 0.591400\n",
      "Epoch  9, CIFAR-10 Batch 2:  Cost:     1.1758, Accuracy: 0.587400\n",
      "Epoch  9, CIFAR-10 Batch 3:  Cost:     1.0193, Accuracy: 0.591600\n",
      "Epoch  9, CIFAR-10 Batch 4:  Cost:     1.1576, Accuracy: 0.584000\n",
      "Epoch  9, CIFAR-10 Batch 5:  Cost:     1.1519, Accuracy: 0.593200\n",
      "Epoch 10, CIFAR-10 Batch 1:  Cost:     1.0894, Accuracy: 0.589400\n",
      "Epoch 10, CIFAR-10 Batch 2:  Cost:     1.1704, Accuracy: 0.595400\n",
      "Epoch 10, CIFAR-10 Batch 3:  Cost:     0.9262, Accuracy: 0.598800\n",
      "Epoch 10, CIFAR-10 Batch 4:  Cost:     1.1558, Accuracy: 0.590800\n",
      "Epoch 10, CIFAR-10 Batch 5:  Cost:     1.0822, Accuracy: 0.596800\n",
      "Epoch 11, CIFAR-10 Batch 1:  Cost:     1.0468, Accuracy: 0.594800\n",
      "Epoch 11, CIFAR-10 Batch 2:  Cost:     1.1015, Accuracy: 0.604200\n",
      "Epoch 11, CIFAR-10 Batch 3:  Cost:     0.8696, Accuracy: 0.598200\n",
      "Epoch 11, CIFAR-10 Batch 4:  Cost:     1.0856, Accuracy: 0.598000\n",
      "Epoch 11, CIFAR-10 Batch 5:  Cost:     1.0107, Accuracy: 0.604600\n",
      "Epoch 12, CIFAR-10 Batch 1:  Cost:     1.0629, Accuracy: 0.588600\n",
      "Epoch 12, CIFAR-10 Batch 2:  Cost:     1.0525, Accuracy: 0.612000\n",
      "Epoch 12, CIFAR-10 Batch 3:  Cost:     0.8243, Accuracy: 0.608000\n",
      "Epoch 12, CIFAR-10 Batch 4:  Cost:     1.0396, Accuracy: 0.605400\n",
      "Epoch 12, CIFAR-10 Batch 5:  Cost:     0.9534, Accuracy: 0.603000\n",
      "Epoch 13, CIFAR-10 Batch 1:  Cost:     0.9750, Accuracy: 0.626600\n",
      "Epoch 13, CIFAR-10 Batch 2:  Cost:     1.0578, Accuracy: 0.615000\n",
      "Epoch 13, CIFAR-10 Batch 3:  Cost:     0.7580, Accuracy: 0.616400\n",
      "Epoch 13, CIFAR-10 Batch 4:  Cost:     1.0131, Accuracy: 0.616600\n",
      "Epoch 13, CIFAR-10 Batch 5:  Cost:     0.8984, Accuracy: 0.606800\n",
      "Epoch 14, CIFAR-10 Batch 1:  Cost:     0.9241, Accuracy: 0.626000\n",
      "Epoch 14, CIFAR-10 Batch 2:  Cost:     1.0496, Accuracy: 0.610600\n",
      "Epoch 14, CIFAR-10 Batch 3:  Cost:     0.7369, Accuracy: 0.631600\n",
      "Epoch 14, CIFAR-10 Batch 4:  Cost:     0.9755, Accuracy: 0.627600\n",
      "Epoch 14, CIFAR-10 Batch 5:  Cost:     0.8468, Accuracy: 0.618800\n",
      "Epoch 15, CIFAR-10 Batch 1:  Cost:     0.8972, Accuracy: 0.627800\n",
      "Epoch 15, CIFAR-10 Batch 2:  Cost:     0.9521, Accuracy: 0.628200\n",
      "Epoch 15, CIFAR-10 Batch 3:  Cost:     0.6992, Accuracy: 0.628800\n",
      "Epoch 15, CIFAR-10 Batch 4:  Cost:     0.9158, Accuracy: 0.620800\n",
      "Epoch 15, CIFAR-10 Batch 5:  Cost:     0.8096, Accuracy: 0.628400\n",
      "Epoch 16, CIFAR-10 Batch 1:  Cost:     0.9480, Accuracy: 0.634200\n",
      "Epoch 16, CIFAR-10 Batch 2:  Cost:     0.9813, Accuracy: 0.630000\n",
      "Epoch 16, CIFAR-10 Batch 3:  Cost:     0.7213, Accuracy: 0.638400\n",
      "Epoch 16, CIFAR-10 Batch 4:  Cost:     0.8613, Accuracy: 0.633600\n",
      "Epoch 16, CIFAR-10 Batch 5:  Cost:     0.7934, Accuracy: 0.630000\n",
      "Epoch 17, CIFAR-10 Batch 1:  Cost:     0.8596, Accuracy: 0.636200\n",
      "Epoch 17, CIFAR-10 Batch 2:  Cost:     0.9414, Accuracy: 0.616400\n",
      "Epoch 17, CIFAR-10 Batch 3:  Cost:     0.6824, Accuracy: 0.638200\n",
      "Epoch 17, CIFAR-10 Batch 4:  Cost:     0.8582, Accuracy: 0.627200\n",
      "Epoch 17, CIFAR-10 Batch 5:  Cost:     0.7758, Accuracy: 0.631400\n",
      "Epoch 18, CIFAR-10 Batch 1:  Cost:     0.8502, Accuracy: 0.633600\n",
      "Epoch 18, CIFAR-10 Batch 2:  Cost:     0.8708, Accuracy: 0.623200\n",
      "Epoch 18, CIFAR-10 Batch 3:  Cost:     0.6378, Accuracy: 0.637800\n",
      "Epoch 18, CIFAR-10 Batch 4:  Cost:     0.8011, Accuracy: 0.637000\n",
      "Epoch 18, CIFAR-10 Batch 5:  Cost:     0.7904, Accuracy: 0.623200\n",
      "Epoch 19, CIFAR-10 Batch 1:  Cost:     0.8403, Accuracy: 0.642400\n",
      "Epoch 19, CIFAR-10 Batch 2:  Cost:     0.8483, Accuracy: 0.636200\n",
      "Epoch 19, CIFAR-10 Batch 3:  Cost:     0.6086, Accuracy: 0.644000\n",
      "Epoch 19, CIFAR-10 Batch 4:  Cost:     0.7624, Accuracy: 0.647200\n",
      "Epoch 19, CIFAR-10 Batch 5:  Cost:     0.7646, Accuracy: 0.623200\n",
      "Epoch 20, CIFAR-10 Batch 1:  Cost:     0.8001, Accuracy: 0.638200\n",
      "Epoch 20, CIFAR-10 Batch 2:  Cost:     0.8400, Accuracy: 0.622000\n",
      "Epoch 20, CIFAR-10 Batch 3:  Cost:     0.5780, Accuracy: 0.643200\n",
      "Epoch 20, CIFAR-10 Batch 4:  Cost:     0.8352, Accuracy: 0.639400\n",
      "Epoch 20, CIFAR-10 Batch 5:  Cost:     0.7226, Accuracy: 0.616800\n",
      "Epoch 21, CIFAR-10 Batch 1:  Cost:     0.7549, Accuracy: 0.641400\n",
      "Epoch 21, CIFAR-10 Batch 2:  Cost:     0.8333, Accuracy: 0.635800\n",
      "Epoch 21, CIFAR-10 Batch 3:  Cost:     0.5831, Accuracy: 0.645800\n",
      "Epoch 21, CIFAR-10 Batch 4:  Cost:     0.7598, Accuracy: 0.643400\n",
      "Epoch 21, CIFAR-10 Batch 5:  Cost:     0.7030, Accuracy: 0.628400\n",
      "Epoch 22, CIFAR-10 Batch 1:  Cost:     0.7684, Accuracy: 0.639200\n",
      "Epoch 22, CIFAR-10 Batch 2:  Cost:     0.8083, Accuracy: 0.639800\n",
      "Epoch 22, CIFAR-10 Batch 3:  Cost:     0.5786, Accuracy: 0.640800\n",
      "Epoch 22, CIFAR-10 Batch 4:  Cost:     0.7641, Accuracy: 0.638200\n",
      "Epoch 22, CIFAR-10 Batch 5:  Cost:     0.6915, Accuracy: 0.635600\n",
      "Epoch 23, CIFAR-10 Batch 1:  Cost:     0.7068, Accuracy: 0.646800\n",
      "Epoch 23, CIFAR-10 Batch 2:  Cost:     0.7734, Accuracy: 0.644800\n",
      "Epoch 23, CIFAR-10 Batch 3:  Cost:     0.5537, Accuracy: 0.645000\n",
      "Epoch 23, CIFAR-10 Batch 4:  Cost:     0.7436, Accuracy: 0.641600\n",
      "Epoch 23, CIFAR-10 Batch 5:  Cost:     0.6489, Accuracy: 0.642400\n",
      "Epoch 24, CIFAR-10 Batch 1:  Cost:     0.7294, Accuracy: 0.650600\n",
      "Epoch 24, CIFAR-10 Batch 2:  Cost:     0.7390, Accuracy: 0.639200\n",
      "Epoch 24, CIFAR-10 Batch 3:  Cost:     0.5495, Accuracy: 0.643200\n",
      "Epoch 24, CIFAR-10 Batch 4:  Cost:     0.7036, Accuracy: 0.647400\n",
      "Epoch 24, CIFAR-10 Batch 5:  Cost:     0.6303, Accuracy: 0.640800\n",
      "Epoch 25, CIFAR-10 Batch 1:  Cost:     0.6780, Accuracy: 0.651600\n",
      "Epoch 25, CIFAR-10 Batch 2:  Cost:     0.7146, Accuracy: 0.648400\n",
      "Epoch 25, CIFAR-10 Batch 3:  Cost:     0.5290, Accuracy: 0.649600\n"
     ]
    },
    {
     "name": "stdout",
     "output_type": "stream",
     "text": [
      "Epoch 25, CIFAR-10 Batch 4:  Cost:     0.6705, Accuracy: 0.652000\n",
      "Epoch 25, CIFAR-10 Batch 5:  Cost:     0.5949, Accuracy: 0.648000\n",
      "Epoch 26, CIFAR-10 Batch 1:  Cost:     0.6589, Accuracy: 0.648200\n",
      "Epoch 26, CIFAR-10 Batch 2:  Cost:     0.7081, Accuracy: 0.648400\n",
      "Epoch 26, CIFAR-10 Batch 3:  Cost:     0.4928, Accuracy: 0.660600\n",
      "Epoch 26, CIFAR-10 Batch 4:  Cost:     0.6695, Accuracy: 0.650600\n",
      "Epoch 26, CIFAR-10 Batch 5:  Cost:     0.6151, Accuracy: 0.638600\n",
      "Epoch 27, CIFAR-10 Batch 1:  Cost:     0.6441, Accuracy: 0.648200\n",
      "Epoch 27, CIFAR-10 Batch 2:  Cost:     0.6707, Accuracy: 0.647000\n",
      "Epoch 27, CIFAR-10 Batch 3:  Cost:     0.4941, Accuracy: 0.651400\n",
      "Epoch 27, CIFAR-10 Batch 4:  Cost:     0.6260, Accuracy: 0.651200\n",
      "Epoch 27, CIFAR-10 Batch 5:  Cost:     0.5688, Accuracy: 0.651800\n",
      "Epoch 28, CIFAR-10 Batch 1:  Cost:     0.6444, Accuracy: 0.656600\n",
      "Epoch 28, CIFAR-10 Batch 2:  Cost:     0.6615, Accuracy: 0.650000\n",
      "Epoch 28, CIFAR-10 Batch 3:  Cost:     0.4838, Accuracy: 0.660400\n",
      "Epoch 28, CIFAR-10 Batch 4:  Cost:     0.6527, Accuracy: 0.644600\n",
      "Epoch 28, CIFAR-10 Batch 5:  Cost:     0.5924, Accuracy: 0.650800\n",
      "Epoch 29, CIFAR-10 Batch 1:  Cost:     0.5962, Accuracy: 0.646800\n",
      "Epoch 29, CIFAR-10 Batch 2:  Cost:     0.6626, Accuracy: 0.645200\n",
      "Epoch 29, CIFAR-10 Batch 3:  Cost:     0.4610, Accuracy: 0.652800\n",
      "Epoch 29, CIFAR-10 Batch 4:  Cost:     0.6654, Accuracy: 0.644800\n",
      "Epoch 29, CIFAR-10 Batch 5:  Cost:     0.5645, Accuracy: 0.648000\n",
      "Epoch 30, CIFAR-10 Batch 1:  Cost:     0.5761, Accuracy: 0.650400\n",
      "Epoch 30, CIFAR-10 Batch 2:  Cost:     0.6503, Accuracy: 0.647600\n",
      "Epoch 30, CIFAR-10 Batch 3:  Cost:     0.4488, Accuracy: 0.651600\n",
      "Epoch 30, CIFAR-10 Batch 4:  Cost:     0.5993, Accuracy: 0.651200\n",
      "Epoch 30, CIFAR-10 Batch 5:  Cost:     0.5279, Accuracy: 0.655400\n"
     ]
    }
   ],
   "source": [
    "\"\"\"\n",
    "DON'T MODIFY ANYTHING IN THIS CELL\n",
    "\"\"\"\n",
    "save_model_path = './image_classification'\n",
    "\n",
    "print('Training...')\n",
    "with tf.Session() as sess:\n",
    "    # Initializing the variables\n",
    "    sess.run(tf.global_variables_initializer())\n",
    "    \n",
    "    # Training cycle\n",
    "    for epoch in range(epochs):\n",
    "        # Loop over all batches\n",
    "        n_batches = 5\n",
    "        for batch_i in range(1, n_batches + 1):\n",
    "            for batch_features, batch_labels in helper.load_preprocess_training_batch(batch_i, batch_size):\n",
    "                train_neural_network(sess, optimizer, keep_probability, batch_features, batch_labels)\n",
    "            print('Epoch {:>2}, CIFAR-10 Batch {}:  '.format(epoch + 1, batch_i), end='')\n",
    "            print_stats(sess, batch_features, batch_labels, cost, accuracy)\n",
    "            \n",
    "    # Save Model\n",
    "    saver = tf.train.Saver()\n",
    "    save_path = saver.save(sess, save_model_path)"
   ]
  },
  {
   "cell_type": "markdown",
   "metadata": {},
   "source": [
    "# Checkpoint\n",
    "The model has been saved to disk.\n",
    "## Test Model\n",
    "Test your model against the test dataset.  This will be your final accuracy. You should have an accuracy greater than 50%. If you don't, keep tweaking the model architecture and parameters."
   ]
  },
  {
   "cell_type": "code",
   "execution_count": 316,
   "metadata": {},
   "outputs": [
    {
     "name": "stdout",
     "output_type": "stream",
     "text": [
      "INFO:tensorflow:Restoring parameters from ./image_classification\n",
      "Testing Accuracy: 0.7082674050632911\n",
      "\n"
     ]
    },
    {
     "data": {
      "image/png": "[encoded data removed]",
      "text/plain": [
       "<matplotlib.figure.Figure at 0x1d700abd9e8>"
      ]
     },
     "metadata": {
      "image/png": {
       "height": 319,
       "width": 355
      }
     },
     "output_type": "display_data"
    }
   ],
   "source": [
    "\"\"\"\n",
    "DON'T MODIFY ANYTHING IN THIS CELL\n",
    "\"\"\"\n",
    "%matplotlib inline\n",
    "%config InlineBackend.figure_format = 'retina'\n",
    "\n",
    "import tensorflow as tf\n",
    "import pickle\n",
    "import helper\n",
    "import random\n",
    "\n",
    "# Set batch size if not already set\n",
    "try:\n",
    "    if batch_size:\n",
    "        pass\n",
    "except NameError:\n",
    "    batch_size = 64\n",
    "\n",
    "save_model_path = './image_classification'\n",
    "n_samples = 4\n",
    "top_n_predictions = 3\n",
    "\n",
    "def test_model():\n",
    "    \"\"\"\n",
    "    Test the saved model against the test dataset\n",
    "    \"\"\"\n",
    "\n",
    "    test_features, test_labels = pickle.load(open('preprocess_test.p', mode='rb'))\n",
    "    loaded_graph = tf.Graph()\n",
    "\n",
    "    with tf.Session(graph=loaded_graph) as sess:\n",
    "        # Load model\n",
    "        loader = tf.train.import_meta_graph(save_model_path + '.meta')\n",
    "        loader.restore(sess, save_model_path)\n",
    "\n",
    "        # Get Tensors from loaded model\n",
    "        loaded_x = loaded_graph.get_tensor_by_name('x:0')\n",
    "        loaded_y = loaded_graph.get_tensor_by_name('y:0')\n",
    "        loaded_keep_prob = loaded_graph.get_tensor_by_name('keep_prob:0')\n",
    "        loaded_logits = loaded_graph.get_tensor_by_name('logits:0')\n",
    "        loaded_acc = loaded_graph.get_tensor_by_name('accuracy:0')\n",
    "        \n",
    "        # Get accuracy in batches for memory limitations\n",
    "        test_batch_acc_total = 0\n",
    "        test_batch_count = 0\n",
    "        \n",
    "        for test_feature_batch, test_label_batch in helper.batch_features_labels(test_features, test_labels, batch_size):\n",
    "            test_batch_acc_total += sess.run(\n",
    "                loaded_acc,\n",
    "                feed_dict={loaded_x: test_feature_batch, loaded_y: test_label_batch, loaded_keep_prob: 1.0})\n",
    "            test_batch_count += 1\n",
    "\n",
    "        print('Testing Accuracy: {}\\n'.format(test_batch_acc_total/test_batch_count))\n",
    "\n",
    "        # Print Random Samples\n",
    "        random_test_features, random_test_labels = tuple(zip(*random.sample(list(zip(test_features, test_labels)), n_samples)))\n",
    "        random_test_predictions = sess.run(\n",
    "            tf.nn.top_k(tf.nn.softmax(loaded_logits), top_n_predictions),\n",
    "            feed_dict={loaded_x: random_test_features, loaded_y: random_test_labels, loaded_keep_prob: 1.0})\n",
    "        helper.display_image_predictions(random_test_features, random_test_labels, random_test_predictions)\n",
    "\n",
    "\n",
    "test_model()"
   ]
  },
  {
   "cell_type": "markdown",
   "metadata": {},
   "source": [
    "## Why 50-80% Accuracy?\n",
    "You might be wondering why you can't get an accuracy any higher. First things first, 50% isn't bad for a simple CNN.  Pure guessing would get you 10% accuracy. However, you might notice people are getting scores [well above 80%](http://rodrigob.github.io/are_we_there_yet/build/classification_datasets_results.html#43494641522d3130).  That's because we haven't taught you all there is to know about neural networks. We still need to cover a few more techniques.\n",
    "## Submitting This Project\n",
    "When submitting this project, make sure to run all the cells before saving the notebook.  Save the notebook file as \"dlnd_image_classification.ipynb\" and save it as a HTML file under \"File\" -> \"Download as\".  Include the \"helper.py\" and \"problem_unittests.py\" files in your submission."
   ]
  },
  {
   "cell_type": "code",
   "execution_count": null,
   "metadata": {
    "collapsed": true
   },
   "outputs": [],
   "source": []
  }
 ],
 "metadata": {
  "kernelspec": {
   "display_name": "Python 3",
   "language": "python",
   "name": "python3"
  },
  "language_info": {
   "codemirror_mode": {
    "name": "ipython",
    "version": 3
   },
   "file_extension": ".py",
   "mimetype": "text/x-python",
   "name": "python",
   "nbconvert_exporter": "python",
   "pygments_lexer": "ipython3",
   "version": "3.6.2"
  }
 },
 "nbformat": 4,
 "nbformat_minor": 1
}
